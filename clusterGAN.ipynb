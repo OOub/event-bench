{
 "cells": [
  {
   "cell_type": "code",
   "execution_count": null,
   "id": "e4f7fd28",
   "metadata": {},
   "outputs": [],
   "source": [
    "import time\n",
    "import numpy as np\n",
    "import importlib\n",
    "from source.clusterGAN import clusterGAN\n",
    "import source.util as util"
   ]
  },
  {
   "cell_type": "markdown",
   "id": "c9e440ea",
   "metadata": {},
   "source": [
    "### parameters"
   ]
  },
  {
   "cell_type": "code",
   "execution_count": null,
   "id": "6502ca29",
   "metadata": {},
   "outputs": [],
   "source": [
    "data_name = 'pokerdvs'\n",
    "model_name = 'clus_wgan'\n",
    "sampler = 'one_hot'\n",
    "num_classes = 10\n",
    "dim_gen = 30\n",
    "n_cat = 1\n",
    "batch_size = 64\n",
    "beta_cycle_gen = 10.0\n",
    "beta_cycle_label = 10.0\n",
    "timestamp = ''"
   ]
  },
  {
   "cell_type": "markdown",
   "id": "a7c4757b-cd20-4abe-9878-3de24375e57f",
   "metadata": {},
   "source": [
    "### importing modules"
   ]
  },
  {
   "cell_type": "code",
   "execution_count": null,
   "id": "f6509fa7-3129-402a-b335-be75571bbccb",
   "metadata": {},
   "outputs": [],
   "source": [
    "data = importlib.import_module('source.' + data_name)\n",
    "model = importlib.import_module('source.' + data_name + '.' + model_name)"
   ]
  },
  {
   "cell_type": "markdown",
   "id": "28cb128d-9213-45e7-bdcf-fb956bc95283",
   "metadata": {},
   "source": [
    "### building model and training"
   ]
  },
  {
   "cell_type": "code",
   "execution_count": null,
   "id": "24cf1f39-cfd2-4e56-8e9a-67e950f91c97",
   "metadata": {},
   "outputs": [],
   "source": [
    "z_dim = dim_gen + num_classes * n_cat\n",
    "d_net = model.Discriminator()\n",
    "g_net = model.Generator(z_dim=z_dim)\n",
    "enc_net = model.Encoder(z_dim=z_dim, dim_gen = dim_gen)\n",
    "xs = data.DataSampler()\n",
    "zs = util.sample_Z\n",
    "\n",
    "cl_gan = clusterGAN(g_net, d_net, enc_net, xs, zs, data_name, model_name, sampler,\n",
    "                    num_classes, dim_gen, n_cat, batch_size, beta_cycle_gen, beta_cycle_label)\n",
    "\n",
    "cl_gan.train()"
   ]
  },
  {
   "cell_type": "code",
   "execution_count": null,
   "id": "7bbfef56-6787-45a8-9464-c12050dd1eac",
   "metadata": {},
   "outputs": [],
   "source": []
  }
 ],
 "metadata": {
  "kernelspec": {
   "display_name": "Python 3",
   "language": "python",
   "name": "python3"
  },
  "language_info": {
   "codemirror_mode": {
    "name": "ipython",
    "version": 3
   },
   "file_extension": ".py",
   "mimetype": "text/x-python",
   "name": "python",
   "nbconvert_exporter": "python",
   "pygments_lexer": "ipython3",
   "version": "3.7.0"
  }
 },
 "nbformat": 4,
 "nbformat_minor": 5
}
