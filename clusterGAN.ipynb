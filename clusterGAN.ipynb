{
 "cells": [
  {
   "cell_type": "code",
   "execution_count": null,
   "id": "e4f7fd28",
   "metadata": {},
   "outputs": [],
   "source": [
    "import time\n",
    "import tonic\n",
    "import importlib\n",
    "import numpy as np\n",
    "import tonic.transforms as transforms\n",
    "import tensorflow as tf\n",
    "\n",
    "from source.utilities import *\n",
    "from source.clusterGAN import clusterGAN\n",
    "\n",
    "# author code includes deprecated packages so let's suppress the deprecation warnings\n",
    "from tensorflow.python.util import deprecation\n",
    "deprecation._PRINT_DEPRECATION_WARNINGS = False\n",
    "if type(tf.contrib) != type(tf): tf.contrib._warning = None"
   ]
  },
  {
   "cell_type": "markdown",
   "id": "c9e440ea",
   "metadata": {},
   "source": [
    "### parameters"
   ]
  },
  {
   "cell_type": "code",
   "execution_count": null,
   "id": "6502ca29",
   "metadata": {},
   "outputs": [],
   "source": [
    "# dataset parameters\n",
    "dataset_name       = 'DVSGESTURE'\n",
    "frame_time         = 1000\n",
    "subsample          = 100 # take a sample of the dataset\n",
    "\n",
    "# clusterGAN parameters\n",
    "batch_size         = 64\n",
    "latent_dim         = 30\n",
    "beta_cycle_gen     = 10.0\n",
    "beta_cycle_label   = 10.0\n",
    "train              = True\n",
    "timestamp          = ''"
   ]
  },
  {
   "cell_type": "markdown",
   "id": "91182822-3c7f-45af-8a08-59cff4d8fde9",
   "metadata": {},
   "source": [
    "### load modules"
   ]
  },
  {
   "cell_type": "code",
   "execution_count": null,
   "id": "5f3289e6-5294-48ab-bd0d-2284ac6d459a",
   "metadata": {},
   "outputs": [],
   "source": [
    "data = importlib.import_module('source.' + dataset_name.lower())\n",
    "model = importlib.import_module('source.' + dataset_name.lower() + '.clus_wgan')"
   ]
  },
  {
   "cell_type": "markdown",
   "id": "28cb128d-9213-45e7-bdcf-fb956bc95283",
   "metadata": {},
   "source": [
    "### building model and training"
   ]
  },
  {
   "cell_type": "code",
   "execution_count": null,
   "id": "24cf1f39-cfd2-4e56-8e9a-67e950f91c97",
   "metadata": {},
   "outputs": [],
   "source": [
    "data_sampler = data.DataSampler(frame_time, subsample)\n",
    "num_classes = data_sampler.num_classes\n",
    "z_dim = latent_dim + num_classes\n",
    "discriminator = model.Discriminator()\n",
    "generator = model.Generator(z_dim=z_dim)\n",
    "encoder = model.Encoder(z_dim=z_dim, latent_dim = latent_dim)\n",
    "\n",
    "# initialising clusterGAN\n",
    "cluster_gan = clusterGAN(generator, \n",
    "                         discriminator, \n",
    "                         encoder, \n",
    "                         dataset_name.lower(),\n",
    "                         data_sampler, \n",
    "                         num_classes, \n",
    "                         latent_dim, \n",
    "                         batch_size, \n",
    "                         beta_cycle_gen, \n",
    "                         beta_cycle_label)\n",
    "\n",
    "# training\n",
    "if train:\n",
    "    cluster_gan.train()\n",
    "else:\n",
    "    cluster_gan.load(pre_trained=False, timestamp = timestamp)\n",
    "    cluster_gan.recon_enc(timestamp)"
   ]
  }
 ],
 "metadata": {
  "kernelspec": {
   "display_name": "Python 3",
   "language": "python",
   "name": "python3"
  },
  "language_info": {
   "codemirror_mode": {
    "name": "ipython",
    "version": 3
   },
   "file_extension": ".py",
   "mimetype": "text/x-python",
   "name": "python",
   "nbconvert_exporter": "python",
   "pygments_lexer": "ipython3",
   "version": "3.7.0"
  }
 },
 "nbformat": 4,
 "nbformat_minor": 5
}
