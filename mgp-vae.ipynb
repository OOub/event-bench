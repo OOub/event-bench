{
 "cells": [
  {
   "cell_type": "code",
   "execution_count": null,
   "id": "39c1c750",
   "metadata": {},
   "outputs": [],
   "source": [
    "import time\n",
    "import tonic\n",
    "import tonic.transforms as transforms\n",
    "import numpy as np\n",
    "from torch.utils.data.sampler import Sampler\n",
    "from pathlib import Path"
   ]
  },
  {
   "cell_type": "markdown",
   "id": "c40de65e",
   "metadata": {},
   "source": [
    "### parameters"
   ]
  },
  {
   "cell_type": "code",
   "execution_count": null,
   "id": "1d832ead",
   "metadata": {},
   "outputs": [],
   "source": [
    "dataset_name = 'POKERDVS' # name of dataset: POKERDVS -- NMNIST -- NCARS -- DVSGesture\n",
    "download_dataset = True # downloads the datasets before parsing\n",
    "first_saccade_only = False # specific for N-MNIST (3 saccades 100ms each)\n",
    "subsample = 100 # take a sample of the dataset\n",
    "spatial_histograms = True\n",
    "K = 10"
   ]
  },
  {
   "cell_type": "markdown",
   "id": "28e6c4a6",
   "metadata": {},
   "source": [
    "### load dataset"
   ]
  },
  {
   "cell_type": "code",
   "execution_count": null,
   "id": "a250b3ff",
   "metadata": {},
   "outputs": [],
   "source": [
    "start_time = time.time()\n",
    "transform = transforms.Compose([transforms.ToRatecodedFrame(frame_time=5000, merge_polarities=True)])\n",
    "\n",
    "if dataset_name == 'NCARS': # 304 x 240\n",
    "    train_set = tonic.datasets.NCARS(save_to='./data', train=True, download=download_dataset, transform=transform)\n",
    "    test_set = tonic.datasets.NCARS(save_to='./data', train=False, download=download_dataset, transform=transform)\n",
    "if dataset_name == 'POKERDVS': # 35 x 35\n",
    "    train_set = tonic.datasets.POKERDVS(save_to='./data', train=True, download=download_dataset, transform=transform)\n",
    "    test_set = tonic.datasets.POKERDVS(save_to='./data', train=False, download=download_dataset, transform=transform)\n",
    "elif dataset_name == \"DVSGesture\": # 128 x 128\n",
    "    train_set = tonic.datasets.DVSGesture(save_to='./data', train=True, download=download_dataset, transform=transform)\n",
    "    test_set = tonic.datasets.DVSGesture(save_to='./data', train=False, download=download_dataset, transform=transform)\n",
    "elif dataset_name == 'NMNIST': # 34 x 34\n",
    "    train_set = tonic.datasets.NMNIST(save_to='./data/nmnist', train=True, download=download_dataset, first_saccade_only=first_saccade_only, transform=transform)\n",
    "    test_set = tonic.datasets.NMNIST(save_to='./data/nmnist', train=False, download=download_dataset, first_saccade_only=first_saccade_only, transform=transform)\n",
    "    \n",
    "x_index = train_set.ordering.find('x')\n",
    "y_index = train_set.ordering.find('y')\n",
    "t_index = train_set.ordering.find('t')"
   ]
  },
  {
   "cell_type": "code",
   "execution_count": null,
   "id": "a3043f8f",
   "metadata": {},
   "outputs": [],
   "source": [
    "# take a subset\n",
    "train_index = np.arange(len(train_set))\n",
    "np.random.shuffle(train_index)\n",
    "\n",
    "test_index = np.arange(len(test_set))\n",
    "np.random.shuffle(test_index)\n",
    "\n",
    "if subsample > 0 and subsample < 100:\n",
    "    print(\"Taking %s%% of the dataset\" % subsample)\n",
    "    \n",
    "    # calculate number of samples we want to take\n",
    "    train_samples = np.ceil((subsample * len(train_set)) / 100).astype(int)\n",
    "    test_samples = np.ceil((subsample * len(test_set)) / 100).astype(int)\n",
    "    \n",
    "    # choosing indices of the subset\n",
    "    train_index = train_index[:train_samples]\n",
    "    test_index = test_index[:test_samples]"
   ]
  },
  {
   "cell_type": "code",
   "execution_count": null,
   "id": "2d6f016f",
   "metadata": {},
   "outputs": [],
   "source": [
    "# custom sampler for torch dataloader\n",
    "class custom_sampler(Sampler):\n",
    "    \"\"\"Samples elements from a given list of indices.\n",
    "    \n",
    "    Arguments:\n",
    "        indices (list): a list of indices\n",
    "    \"\"\"\n",
    "\n",
    "    def __init__(self, indices):\n",
    "        self.num_samples = len(indices)\n",
    "        self.indices = indices\n",
    "     \n",
    "    def __iter__(self):\n",
    "        return iter(self.indices)\n",
    "\n",
    "    def __len__(self):\n",
    "        return self.num_samples"
   ]
  },
  {
   "cell_type": "code",
   "execution_count": null,
   "id": "e5b01568",
   "metadata": {},
   "outputs": [],
   "source": [
    "from torch.utils.data import DataLoader\n",
    "trainloader = DataLoader(train_set, sampler=custom_sampler(train_index), shuffle=False)\n",
    "testloader = DataLoader(test_set, sampler=custom_sampler(test_index), shuffle=False)"
   ]
  }
 ],
 "metadata": {
  "kernelspec": {
   "display_name": "Python 3",
   "language": "python",
   "name": "python3"
  },
  "language_info": {
   "codemirror_mode": {
    "name": "ipython",
    "version": 3
   },
   "file_extension": ".py",
   "mimetype": "text/x-python",
   "name": "python",
   "nbconvert_exporter": "python",
   "pygments_lexer": "ipython3",
   "version": "3.7.0"
  }
 },
 "nbformat": 4,
 "nbformat_minor": 5
}
